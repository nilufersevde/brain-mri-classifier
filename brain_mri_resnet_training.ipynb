{
 "cells": [
  {
   "cell_type": "code",
   "execution_count": 21,
   "metadata": {},
   "outputs": [],
   "source": [
    "import os\n",
    "import torch\n",
    "import torchvision\n",
    "import torchvision.transforms as transforms\n",
    "from torchvision.datasets import ImageFolder\n",
    "from torch.utils.data import DataLoader\n",
    "from torch import nn, optim\n",
    "import matplotlib.pyplot as plt\n",
    "import numpy as np\n",
    "import random\n",
    "import shutil \n",
    "from torchvision.datasets import ImageFolder\n",
    "from torch.utils.data import DataLoader\n",
    "import torch\n",
    "import torch.nn as nn\n",
    "from torchvision import models\n"
   ]
  },
  {
   "cell_type": "code",
   "execution_count": 1,
   "metadata": {},
   "outputs": [],
   "source": [
    "from pathlib import Path\n",
    "\n",
    "train_dir = Path(\"data/brain_tumor_dataset/Training\")\n",
    "test_dir = Path(\"data/brain_tumor_dataset/Testing\")\n"
   ]
  },
  {
   "cell_type": "code",
   "execution_count": 2,
   "metadata": {},
   "outputs": [
    {
     "name": "stdout",
     "output_type": "stream",
     "text": [
      "pituitary: 1457 images\n",
      ".DS_Store: 0 images\n",
      "notumor: 1595 images\n",
      "glioma: 1321 images\n",
      "meningioma: 1339 images\n"
     ]
    }
   ],
   "source": [
    "for class_folder in train_dir.iterdir():\n",
    "    num_images = len(list(class_folder.glob(\"*.jpg\")))\n",
    "    print(f\"{class_folder.name}: {num_images} images\")f"
   ]
  },
  {
   "cell_type": "code",
   "execution_count": 3,
   "metadata": {},
   "outputs": [
    {
     "name": "stdout",
     "output_type": "stream",
     "text": [
      "pituitary: 300 images\n",
      "notumor: 405 images\n",
      "glioma: 300 images\n",
      "meningioma: 306 images\n"
     ]
    }
   ],
   "source": [
    "for class_folder in test_dir.iterdir():\n",
    "    num_images = len(list(class_folder.glob(\"*.jpg\")))\n",
    "    print(f\"{class_folder.name}: {num_images} images\")"
   ]
  },
  {
   "cell_type": "code",
   "execution_count": 4,
   "metadata": {},
   "outputs": [],
   "source": [
    "from pathlib import Path\n",
    "\n",
    "source_dir = Path(\"data/brain_tumor_dataset/Training\")\n",
    "target_dir = Path(\"data/clean_split\")\n",
    "\n",
    "train_target = target_dir / \"train\"\n",
    "val_target = target_dir / \"val\"\n",
    "\n",
    "train_target.mkdir(parents=True, exist_ok=True)\n",
    "val_target.mkdir(parents=True, exist_ok=True)\n"
   ]
  },
  {
   "cell_type": "code",
   "execution_count": 14,
   "metadata": {},
   "outputs": [],
   "source": [
    "for class_folder in source_dir.iterdir():\n",
    "    if class_folder.is_dir():\n",
    "        train_class_dir = train_target / class_folder.name\n",
    "        val_class_dir = val_target / class_folder.name\n",
    "        \n",
    "        train_class_dir.mkdir(parents=True, exist_ok=True)\n",
    "        val_class_dir.mkdir(parents=True, exist_ok=True)\n",
    "\n",
    "         # List all images\n",
    "        image_paths = list(class_folder.glob(\"*.jpg\"))\n",
    "        \n",
    "        # Shuffle\n",
    "        random.shuffle(image_paths)\n",
    "        \n",
    "        # Split 80/20\n",
    "        split_idx = int(len(image_paths) * 0.8)\n",
    "        train_images = image_paths[:split_idx]\n",
    "        val_images = image_paths[split_idx:]\n",
    "        \n",
    "        for img_path in train_images:\n",
    "            shutil.copy(img_path, train_class_dir / img_path.name)\n",
    "        \n",
    "        for img_path in val_images:\n",
    "            shutil.copy(img_path, val_class_dir / img_path.name)\n"
   ]
  },
  {
   "cell_type": "code",
   "execution_count": 16,
   "metadata": {},
   "outputs": [],
   "source": [
    "test_source_dir = Path(\"data/brain_tumor_dataset/Testing\")\n",
    "test_target_dir = Path(\"data/clean_split/test\")\n",
    "\n",
    "for class_folder in test_source_dir.iterdir():\n",
    "    if class_folder.is_dir():\n",
    "        target_class_dir = test_target_dir / class_folder.name\n",
    "        target_class_dir.mkdir(parents=True, exist_ok=True)\n",
    "        \n",
    "        for img_path in class_folder.glob(\"*.jpg\"):\n",
    "            shutil.copy(img_path, target_class_dir / img_path.name)\n"
   ]
  },
  {
   "cell_type": "code",
   "execution_count": 19,
   "metadata": {},
   "outputs": [],
   "source": [
    "train_dataset = ImageFolder(root=\"data/clean_split/train\")\n",
    "val_dataset = ImageFolder(root=\"data/clean_split/val\")\n",
    "test_dataset = ImageFolder(root=\"data/clean_split/test\")\n"
   ]
  },
  {
   "cell_type": "code",
   "execution_count": 20,
   "metadata": {},
   "outputs": [],
   "source": [
    "train_loader = DataLoader(train_dataset, batch_size=16, shuffle=True)\n",
    "val_loader = DataLoader(val_dataset, batch_size=16, shuffle=False)\n",
    "test_loader = DataLoader(test_dataset, batch_size=16, shuffle=False)"
   ]
  },
  {
   "cell_type": "code",
   "execution_count": 22,
   "metadata": {},
   "outputs": [
    {
     "name": "stderr",
     "output_type": "stream",
     "text": [
      "/Users/nilufersevdeozdemir/Desktop/compmedprojects/brain-mri-classifier/venv/lib/python3.9/site-packages/torchvision/models/_utils.py:208: UserWarning: The parameter 'pretrained' is deprecated since 0.13 and may be removed in the future, please use 'weights' instead.\n",
      "  warnings.warn(\n",
      "/Users/nilufersevdeozdemir/Desktop/compmedprojects/brain-mri-classifier/venv/lib/python3.9/site-packages/torchvision/models/_utils.py:223: UserWarning: Arguments other than a weight enum or `None` for 'weights' are deprecated since 0.13 and may be removed in the future. The current behavior is equivalent to passing `weights=ResNet18_Weights.IMAGENET1K_V1`. You can also use `weights=ResNet18_Weights.DEFAULT` to get the most up-to-date weights.\n",
      "  warnings.warn(msg)\n"
     ]
    },
    {
     "name": "stdout",
     "output_type": "stream",
     "text": [
      "Downloading: \"https://download.pytorch.org/models/resnet18-f37072fd.pth\" to /Users/nilufersevdeozdemir/.cache/torch/hub/checkpoints/resnet18-f37072fd.pth\n"
     ]
    },
    {
     "name": "stderr",
     "output_type": "stream",
     "text": [
      "100.0%\n"
     ]
    }
   ],
   "source": [
    "resnet = models.resnet18(pretrained=True)\n",
    "resnet.fc = nn.Linear(in_features=512, out_features=4)\n"
   ]
  }
 ],
 "metadata": {
  "kernelspec": {
   "display_name": "venv",
   "language": "python",
   "name": "python3"
  },
  "language_info": {
   "codemirror_mode": {
    "name": "ipython",
    "version": 3
   },
   "file_extension": ".py",
   "mimetype": "text/x-python",
   "name": "python",
   "nbconvert_exporter": "python",
   "pygments_lexer": "ipython3",
   "version": "3.9.12"
  }
 },
 "nbformat": 4,
 "nbformat_minor": 2
}
